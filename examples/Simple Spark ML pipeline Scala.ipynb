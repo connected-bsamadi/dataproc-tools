{
 "cells": [
  {
   "cell_type": "markdown",
   "metadata": {},
   "source": [
    "reference: https://github.com/combust/mleap"
   ]
  },
  {
   "cell_type": "code",
   "execution_count": 1,
   "metadata": {},
   "outputs": [
    {
     "name": "stdout",
     "output_type": "stream",
     "text": [
      "Marking ml.combust.mleap:mleap-spark_2.11:0.5.0 for download\n",
      "Preparing to fetch from:\n",
      "-> file:/tmp/toree-tmp-dir7160717055512962366/toree_add_deps/\n",
      "-> https://repo1.maven.org/maven2\n",
      "-> New file at /tmp/toree-tmp-dir7160717055512962366/toree_add_deps/https/repo1.maven.org/maven2/org/scalanlp/breeze_2.11/0.12/breeze_2.11-0.12.jar\n",
      "-> New file at /tmp/toree-tmp-dir7160717055512962366/toree_add_deps/https/repo1.maven.org/maven2/org/spire-math/spire_2.11/0.7.4/spire_2.11-0.7.4.jar\n",
      "-> New file at /tmp/toree-tmp-dir7160717055512962366/toree_add_deps/https/repo1.maven.org/maven2/com/trueaccord/scalapb/scalapb-runtime_2.11/0.5.42/scalapb-runtime_2.11-0.5.42.jar\n",
      "-> New file at /tmp/toree-tmp-dir7160717055512962366/toree_add_deps/https/repo1.maven.org/maven2/com/github/rwl/jtransforms/2.4.0/jtransforms-2.4.0.jar\n",
      "-> New file at /tmp/toree-tmp-dir7160717055512962366/toree_add_deps/https/repo1.maven.org/maven2/com/google/protobuf/protobuf-java/3.0.0/protobuf-java-3.0.0.jar\n",
      "-> New file at /tmp/toree-tmp-dir7160717055512962366/toree_add_deps/https/repo1.maven.org/maven2/ml/combust/mleap/mleap-spark_2.11/0.5.0/mleap-spark_2.11-0.5.0.jar\n",
      "-> New file at /tmp/toree-tmp-dir7160717055512962366/toree_add_deps/https/repo1.maven.org/maven2/com/lihaoyi/sourcecode_2.11/0.1.1/sourcecode_2.11-0.1.1.jar\n",
      "-> New file at /tmp/toree-tmp-dir7160717055512962366/toree_add_deps/https/repo1.maven.org/maven2/io/spray/spray-json_2.11/1.3.2/spray-json_2.11-1.3.2.jar\n",
      "-> New file at /tmp/toree-tmp-dir7160717055512962366/toree_add_deps/https/repo1.maven.org/maven2/net/sf/opencsv/opencsv/2.3/opencsv-2.3.jar\n",
      "-> New file at /tmp/toree-tmp-dir7160717055512962366/toree_add_deps/https/repo1.maven.org/maven2/org/spire-math/spire-macros_2.11/0.7.4/spire-macros_2.11-0.7.4.jar\n",
      "-> New file at /tmp/toree-tmp-dir7160717055512962366/toree_add_deps/https/repo1.maven.org/maven2/com/lihaoyi/fastparse-utils_2.11/0.3.7/fastparse-utils_2.11-0.3.7.jar\n",
      "-> New file at /tmp/toree-tmp-dir7160717055512962366/toree_add_deps/https/repo1.maven.org/maven2/ml/combust/mleap/mleap-core_2.11/0.5.0/mleap-core_2.11-0.5.0.jar\n",
      "-> New file at /tmp/toree-tmp-dir7160717055512962366/toree_add_deps/https/repo1.maven.org/maven2/com/github/fommil/netlib/core/1.1.2/core-1.1.2.jar\n",
      "-> New file at /tmp/toree-tmp-dir7160717055512962366/toree_add_deps/https/repo1.maven.org/maven2/org/apache/commons/commons-math3/3.4.1/commons-math3-3.4.1.jar\n",
      "-> New file at /tmp/toree-tmp-dir7160717055512962366/toree_add_deps/https/repo1.maven.org/maven2/edu/emory/mathcs/JTransforms/2.4/JTransforms-2.4.jar\n",
      "-> New file at /tmp/toree-tmp-dir7160717055512962366/toree_add_deps/https/repo1.maven.org/maven2/net/sourceforge/f2j/arpack_combined_all/0.1/arpack_combined_all-0.1.jar\n",
      "-> New file at /tmp/toree-tmp-dir7160717055512962366/toree_add_deps/https/repo1.maven.org/maven2/ml/combust/mleap/mleap-runtime_2.11/0.5.0/mleap-runtime_2.11-0.5.0.jar\n",
      "-> New file at /tmp/toree-tmp-dir7160717055512962366/toree_add_deps/https/repo1.maven.org/maven2/ml/combust/bundle/bundle-ml_2.11/0.5.0/bundle-ml_2.11-0.5.0.jar\n",
      "-> New file at /tmp/toree-tmp-dir7160717055512962366/toree_add_deps/https/repo1.maven.org/maven2/com/trueaccord/lenses/lenses_2.11/0.4.6/lenses_2.11-0.4.6.jar\n",
      "-> New file at /tmp/toree-tmp-dir7160717055512962366/toree_add_deps/https/repo1.maven.org/maven2/com/chuusai/shapeless_2.11/2.0.0/shapeless_2.11-2.0.0.jar\n",
      "-> New file at /tmp/toree-tmp-dir7160717055512962366/toree_add_deps/https/repo1.maven.org/maven2/ml/combust/mleap/mleap-spark-base_2.11/0.5.0/mleap-spark-base_2.11-0.5.0.jar\n",
      "-> New file at /tmp/toree-tmp-dir7160717055512962366/toree_add_deps/https/repo1.maven.org/maven2/com/jsuereth/scala-arm_2.11/2.0-RC1/scala-arm_2.11-2.0-RC1.jar\n",
      "-> New file at /tmp/toree-tmp-dir7160717055512962366/toree_add_deps/https/repo1.maven.org/maven2/org/scalanlp/breeze-macros_2.11/0.12/breeze-macros_2.11-0.12.jar\n",
      "-> New file at /tmp/toree-tmp-dir7160717055512962366/toree_add_deps/https/repo1.maven.org/maven2/ml/combust/mleap/mleap-tensor_2.11/0.5.0/mleap-tensor_2.11-0.5.0.jar\n",
      "-> New file at /tmp/toree-tmp-dir7160717055512962366/toree_add_deps/https/repo1.maven.org/maven2/org/apache/spark/spark-tags_2.11/2.1.0/spark-tags_2.11-2.1.0.jar\n",
      "-> New file at /tmp/toree-tmp-dir7160717055512962366/toree_add_deps/https/repo1.maven.org/maven2/com/lihaoyi/fastparse_2.11/0.3.7/fastparse_2.11-0.3.7.jar\n",
      "-> New file at /tmp/toree-tmp-dir7160717055512962366/toree_add_deps/https/repo1.maven.org/maven2/org/spark-project/spark/unused/1.0.0/unused-1.0.0.jar\n",
      "-> New file at /tmp/toree-tmp-dir7160717055512962366/toree_add_deps/https/repo1.maven.org/maven2/org/apache/spark/spark-mllib-local_2.11/2.1.0/spark-mllib-local_2.11-2.1.0.jar\n",
      "-> New file at /tmp/toree-tmp-dir7160717055512962366/toree_add_deps/https/repo1.maven.org/maven2/ml/combust/mleap/mleap-base_2.11/0.5.0/mleap-base_2.11-0.5.0.jar\n",
      "-> New file at /tmp/toree-tmp-dir7160717055512962366/toree_add_deps/https/repo1.maven.org/maven2/com/lihaoyi/fastparse_2.11/0.3.7/fastparse_2.11-0.3.7.pom\n",
      "-> New file at /tmp/toree-tmp-dir7160717055512962366/toree_add_deps/https/repo1.maven.org/maven2/org/spire-math/spire_2.11/0.7.4/spire_2.11-0.7.4.pom\n",
      "-> New file at /tmp/toree-tmp-dir7160717055512962366/toree_add_deps/https/repo1.maven.org/maven2/ml/combust/mleap/mleap-spark_2.11/0.5.0/mleap-spark_2.11-0.5.0.pom\n",
      "-> New file at /tmp/toree-tmp-dir7160717055512962366/toree_add_deps/https/repo1.maven.org/maven2/net/sf/opencsv/opencsv/2.3/opencsv-2.3.pom\n",
      "-> New file at /tmp/toree-tmp-dir7160717055512962366/toree_add_deps/https/repo1.maven.org/maven2/org/spire-math/spire-macros_2.11/0.7.4/spire-macros_2.11-0.7.4.pom\n",
      "-> New file at /tmp/toree-tmp-dir7160717055512962366/toree_add_deps/https/repo1.maven.org/maven2/ml/combust/bundle/bundle-ml_2.11/0.5.0/bundle-ml_2.11-0.5.0.pom\n",
      "-> New file at /tmp/toree-tmp-dir7160717055512962366/toree_add_deps/https/repo1.maven.org/maven2/io/spray/spray-json_2.11/1.3.2/spray-json_2.11-1.3.2.pom\n",
      "-> New file at /tmp/toree-tmp-dir7160717055512962366/toree_add_deps/https/repo1.maven.org/maven2/com/github/rwl/jtransforms/2.4.0/jtransforms-2.4.0.pom\n",
      "-> New file at /tmp/toree-tmp-dir7160717055512962366/toree_add_deps/https/repo1.maven.org/maven2/com/lihaoyi/fastparse-utils_2.11/0.3.7/fastparse-utils_2.11-0.3.7.pom\n",
      "-> New file at /tmp/toree-tmp-dir7160717055512962366/toree_add_deps/https/repo1.maven.org/maven2/com/google/protobuf/protobuf-java/3.0.0/protobuf-java-3.0.0.pom\n",
      "-> New file at /tmp/toree-tmp-dir7160717055512962366/toree_add_deps/https/repo1.maven.org/maven2/com/github/fommil/netlib/core/1.1.2/core-1.1.2.pom\n",
      "-> New file at /tmp/toree-tmp-dir7160717055512962366/toree_add_deps/https/repo1.maven.org/maven2/ml/combust/mleap/mleap-core_2.11/0.5.0/mleap-core_2.11-0.5.0.pom\n",
      "-> New file at /tmp/toree-tmp-dir7160717055512962366/toree_add_deps/https/repo1.maven.org/maven2/org/apache/commons/commons-math3/3.4.1/commons-math3-3.4.1.pom\n",
      "-> New file at /tmp/toree-tmp-dir7160717055512962366/toree_add_deps/https/repo1.maven.org/maven2/edu/emory/mathcs/JTransforms/2.4/JTransforms-2.4.pom\n",
      "-> New file at /tmp/toree-tmp-dir7160717055512962366/toree_add_deps/https/repo1.maven.org/maven2/com/trueaccord/lenses/lenses_2.11/0.4.6/lenses_2.11-0.4.6.pom\n",
      "-> New file at /tmp/toree-tmp-dir7160717055512962366/toree_add_deps/https/repo1.maven.org/maven2/com/trueaccord/scalapb/scalapb-runtime_2.11/0.5.42/scalapb-runtime_2.11-0.5.42.pom\n",
      "-> New file at /tmp/toree-tmp-dir7160717055512962366/toree_add_deps/https/repo1.maven.org/maven2/ml/combust/mleap/mleap-spark-base_2.11/0.5.0/mleap-spark-base_2.11-0.5.0.pom\n",
      "-> New file at /tmp/toree-tmp-dir7160717055512962366/toree_add_deps/https/repo1.maven.org/maven2/net/sourceforge/f2j/arpack_combined_all/0.1/arpack_combined_all-0.1.pom\n",
      "-> New file at /tmp/toree-tmp-dir7160717055512962366/toree_add_deps/https/repo1.maven.org/maven2/com/jsuereth/scala-arm_2.11/2.0-RC1/scala-arm_2.11-2.0-RC1.pom\n",
      "-> New file at /tmp/toree-tmp-dir7160717055512962366/toree_add_deps/https/repo1.maven.org/maven2/com/lihaoyi/sourcecode_2.11/0.1.1/sourcecode_2.11-0.1.1.pom\n",
      "-> New file at /tmp/toree-tmp-dir7160717055512962366/toree_add_deps/https/repo1.maven.org/maven2/org/scalanlp/breeze-macros_2.11/0.12/breeze-macros_2.11-0.12.pom\n",
      "-> New file at /tmp/toree-tmp-dir7160717055512962366/toree_add_deps/https/repo1.maven.org/maven2/ml/combust/mleap/mleap-tensor_2.11/0.5.0/mleap-tensor_2.11-0.5.0.pom\n",
      "-> New file at /tmp/toree-tmp-dir7160717055512962366/toree_add_deps/https/repo1.maven.org/maven2/org/apache/spark/spark-tags_2.11/2.1.0/spark-tags_2.11-2.1.0.pom\n",
      "-> New file at /tmp/toree-tmp-dir7160717055512962366/toree_add_deps/https/repo1.maven.org/maven2/org/spark-project/spark/unused/1.0.0/unused-1.0.0.pom\n",
      "-> New file at /tmp/toree-tmp-dir7160717055512962366/toree_add_deps/https/repo1.maven.org/maven2/org/apache/spark/spark-mllib-local_2.11/2.1.0/spark-mllib-local_2.11-2.1.0.pom\n",
      "-> New file at /tmp/toree-tmp-dir7160717055512962366/toree_add_deps/https/repo1.maven.org/maven2/org/scalanlp/breeze_2.11/0.12/breeze_2.11-0.12.pom\n",
      "-> New file at /tmp/toree-tmp-dir7160717055512962366/toree_add_deps/https/repo1.maven.org/maven2/ml/combust/mleap/mleap-base_2.11/0.5.0/mleap-base_2.11-0.5.0.pom\n",
      "-> New file at /tmp/toree-tmp-dir7160717055512962366/toree_add_deps/https/repo1.maven.org/maven2/com/chuusai/shapeless_2.11/2.0.0/shapeless_2.11-2.0.0.pom\n",
      "-> New file at /tmp/toree-tmp-dir7160717055512962366/toree_add_deps/https/repo1.maven.org/maven2/ml/combust/mleap/mleap-runtime_2.11/0.5.0/mleap-runtime_2.11-0.5.0.pom\n"
     ]
    },
    {
     "data": {
      "text/plain": [
       "Waiting for a Spark session to start..."
      ]
     },
     "metadata": {},
     "output_type": "display_data"
    },
    {
     "data": {
      "text/plain": [
       "Waiting for a Spark session to start..."
      ]
     },
     "metadata": {},
     "output_type": "display_data"
    },
    {
     "name": "stdout",
     "output_type": "stream",
     "text": [
      "Marking com.databricks:spark-avro_2.11:3.0.1 for download\n",
      "Preparing to fetch from:\n",
      "-> file:/tmp/toree-tmp-dir7160717055512962366/toree_add_deps/\n",
      "-> https://repo1.maven.org/maven2\n",
      "-> New file at /tmp/toree-tmp-dir7160717055512962366/toree_add_deps/https/repo1.maven.org/maven2/com/databricks/spark-avro_2.11/3.0.1/spark-avro_2.11-3.0.1.jar\n",
      "-> New file at /tmp/toree-tmp-dir7160717055512962366/toree_add_deps/https/repo1.maven.org/maven2/com/databricks/spark-avro_2.11/3.0.1/spark-avro_2.11-3.0.1.pom\n"
     ]
    }
   ],
   "source": [
    "%AddDeps ml.combust.mleap mleap-spark_2.11 0.5.0 --transitive\n",
    "%AddDeps com.databricks spark-avro_2.11 3.0.1"
   ]
  },
  {
   "cell_type": "code",
   "execution_count": 2,
   "metadata": {},
   "outputs": [],
   "source": [
    "import org.apache.spark.sql.SparkSession"
   ]
  },
  {
   "cell_type": "code",
   "execution_count": 3,
   "metadata": {},
   "outputs": [
    {
     "data": {
      "text/plain": [
       "spark = org.apache.spark.sql.SparkSession@36ecac46\n"
      ]
     },
     "metadata": {},
     "output_type": "display_data"
    },
    {
     "data": {
      "text/html": [
       "<ul>\n",
       "<li><a href=\"Some(http://mydataproc-m.c.ontario-2018.internal:4040)\" target=\"new_tab\">Spark UI: application_1541776945297_0001</a></li>\n",
       "</ul>"
      ],
      "text/plain": [
       "Spark application_1541776945297_0001: Some(http://mydataproc-m.c.ontario-2018.internal:4040)"
      ]
     },
     "execution_count": 3,
     "metadata": {},
     "output_type": "execute_result"
    }
   ],
   "source": [
    "val spark = SparkSession.builder().master(\"local\").getOrCreate()"
   ]
  },
  {
   "cell_type": "code",
   "execution_count": 4,
   "metadata": {},
   "outputs": [],
   "source": [
    "// MLeap/Bundle.ML Serialization Libraries\n",
    "import ml.combust.mleap.spark.SparkSupport._\n",
    "import resource._\n",
    "import ml.combust.bundle.BundleFile\n",
    "import org.apache.spark.ml.bundle.SparkBundleContext"
   ]
  },
  {
   "cell_type": "code",
   "execution_count": 5,
   "metadata": {},
   "outputs": [],
   "source": [
    "import ml.combust.bundle.BundleFile\n",
    "import ml.combust.mleap.spark.SparkSupport._\n",
    "import org.apache.spark.ml.Pipeline\n",
    "import org.apache.spark.ml.bundle.SparkBundleContext\n",
    "import org.apache.spark.ml.feature.{Binarizer, StringIndexer}\n",
    "import org.apache.spark.sql._\n",
    "import org.apache.spark.sql.functions._\n",
    "import resource._"
   ]
  },
  {
   "cell_type": "code",
   "execution_count": 6,
   "metadata": {},
   "outputs": [],
   "source": [
    "import sys.process._"
   ]
  },
  {
   "cell_type": "code",
   "execution_count": 7,
   "metadata": {},
   "outputs": [
    {
     "name": "stdout",
     "output_type": "stream",
     "text": [
      "  % Total    % Received % Xferd  Average Speed   Time    Time     Time  Current\n",
      "                                 Dload  Upload   Total   Spent    Left  Speed\n",
      "100    96  100    96    0     0    623      0 --:--:-- --:--:-- --:--:--   623\n"
     ]
    },
    {
     "data": {
      "text/plain": [
       "warning: there was one feature warning; re-run with -feature for details\n"
      ]
     },
     "metadata": {},
     "output_type": "display_data"
    },
    {
     "data": {
      "text/plain": [
       "0"
      ]
     },
     "execution_count": 7,
     "metadata": {},
     "output_type": "execute_result"
    }
   ],
   "source": [
    "\"curl https://raw.githubusercontent.com/combust/mleap/master/examples/spark-demo.csv -o /tmp/spark-demo.csv\" !"
   ]
  },
  {
   "cell_type": "code",
   "execution_count": 8,
   "metadata": {},
   "outputs": [
    {
     "data": {
      "text/plain": [
       "warning: there was one feature warning; re-run with -feature for details\n"
      ]
     },
     "metadata": {},
     "output_type": "display_data"
    },
    {
     "data": {
      "text/plain": [
       "0"
      ]
     },
     "execution_count": 8,
     "metadata": {},
     "output_type": "execute_result"
    }
   ],
   "source": [
    "\"hadoop fs -mkdir -p /datasets\" !"
   ]
  },
  {
   "cell_type": "code",
   "execution_count": 9,
   "metadata": {},
   "outputs": [
    {
     "data": {
      "text/plain": [
       "warning: there was one feature warning; re-run with -feature for details\n"
      ]
     },
     "metadata": {},
     "output_type": "display_data"
    },
    {
     "data": {
      "text/plain": [
       "0"
      ]
     },
     "execution_count": 9,
     "metadata": {},
     "output_type": "execute_result"
    }
   ],
   "source": [
    "\"hadoop fs -put /tmp/spark-demo.csv /datasets/spark-demo.csv\" !"
   ]
  },
  {
   "cell_type": "code",
   "execution_count": 10,
   "metadata": {},
   "outputs": [
    {
     "data": {
      "text/plain": [
       "datasetName = /datasets/spark-demo.csv\n"
      ]
     },
     "metadata": {},
     "output_type": "display_data"
    },
    {
     "data": {
      "text/plain": [
       "/datasets/spark-demo.csv"
      ]
     },
     "execution_count": 10,
     "metadata": {},
     "output_type": "execute_result"
    }
   ],
   "source": [
    "val datasetName = \"/datasets/spark-demo.csv\""
   ]
  },
  {
   "cell_type": "code",
   "execution_count": 16,
   "metadata": {},
   "outputs": [
    {
     "data": {
      "text/plain": [
       "dataframe = [test_string: string, test_double: double]\n"
      ]
     },
     "metadata": {},
     "output_type": "display_data"
    },
    {
     "data": {
      "text/plain": [
       "error: missing or invalid dependency detected while loading class file 'QualifiedTableName.class'.\n",
       "Could not access type AnyRef in package scala,\n",
       "because it (or its dependencies) are missing. Check your build definition for\n",
       "missing or conflicting dependencies. (Re-run with `-Ylog-classpath` to see the problematic classpath.)\n",
       "A full rebuild may help if 'QualifiedTableName.class' was compiled against an incompatible version of scala.\n",
       "error: missing or invalid dependency detected while loading class file 'FunctionIdentifier.class'.\n",
       "Could not access type AnyRef in package scala,\n",
       "because it (or its dependencies) are missing. Check your build definition for\n",
       "missing or conflicting dependencies. (Re-run with `-Ylog-classpath` to see the problematic classpath.)\n",
       "A full rebuild may help if 'FunctionIdentifier.class' was compiled against an incompatible version of scala.\n",
       "error: missing or invalid dependency detected while loading class file 'DefinedByConstructorParams.class'.\n",
       "Could not access type AnyRef in package scala,\n",
       "because it (or its dependencies) are missing. Check your build definition for\n",
       "missing or conflicting dependencies. (Re-run with `-Ylog-classpath` to see the problematic classpath.)\n",
       "A full rebuild may help if 'DefinedByConstructorParams.class' was compiled against an incompatible version of scala.\n",
       "error: missing or invalid dependency detected while loading class file 'StructField.class'.\n",
       "Could not access type AnyRef in package scala,\n",
       "because it (or its dependencies) are missing. Check your build definition for\n",
       "missing or conflicting dependencies. (Re-run with `-Ylog-classpath` to see the problematic classpath.)\n",
       "A full rebuild may help if 'StructField.class' was compiled against an incompatible version of scala.\n",
       "error: missing or invalid dependency detected while loading class file 'MetadataBuilder.class'.\n",
       "Could not access type AnyRef in package scala,\n",
       "because it (or its dependencies) are missing. Check your build definition for\n",
       "missing or conflicting dependencies. (Re-run with `-Ylog-classpath` to see the problematic classpath.)\n",
       "A full rebuild may help if 'MetadataBuilder.class' was compiled against an incompatible version of scala.\n"
      ]
     },
     "metadata": {},
     "output_type": "display_data"
    },
    {
     "data": {
      "text/plain": [
       "[test_string: string, test_double: double]"
      ]
     },
     "execution_count": 16,
     "metadata": {},
     "output_type": "execute_result"
    }
   ],
   "source": [
    "val dataframe: DataFrame = spark.sqlContext.read.format(\"csv\")\n",
    "    .option(\"header\", true)\n",
    "    .load(datasetName)\n",
    "    .withColumn(\"test_double\", col(\"test_double\").cast(\"double\"))"
   ]
  },
  {
   "cell_type": "code",
   "execution_count": null,
   "metadata": {},
   "outputs": [],
   "source": [
    "// User out-of-the-box Spark transformers like you normally would\n",
    "  val stringIndexer = new StringIndexer().\n",
    "    setInputCol(\"test_string\").\n",
    "    setOutputCol(\"test_index\")"
   ]
  }
 ],
 "metadata": {
  "kernelspec": {
   "display_name": "Apache Toree - Scala",
   "language": "scala",
   "name": "apache_toree_scala"
  },
  "language_info": {
   "codemirror_mode": "text/x-scala",
   "file_extension": ".scala",
   "mimetype": "text/x-scala",
   "name": "scala",
   "pygments_lexer": "scala",
   "version": "2.11.8"
  }
 },
 "nbformat": 4,
 "nbformat_minor": 2
}